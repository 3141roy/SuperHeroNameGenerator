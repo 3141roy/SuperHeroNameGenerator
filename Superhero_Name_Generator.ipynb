{
  "cells": [
    {
      "cell_type": "markdown",
      "metadata": {
        "id": "21XXWP7Fpt2L"
      },
      "source": [
        "# Superhero (and Supervillain) Name Generator\n",
        "\n",
        "---\n",
        "\n",
        "[Superhero Names Dataset](https://github.com/am1tyadav/superhero)"
      ]
    },
    {
      "cell_type": "markdown",
      "metadata": {
        "id": "H6P0NU5Cpt2R"
      },
      "source": [
        "## Task 2\n",
        "\n",
        "1. Import the data\n",
        "2. Create a tokenizer\n",
        "3. Char to index and Index to char dictionaries"
      ]
    },
    {
      "cell_type": "code",
      "execution_count": 1,
      "metadata": {
        "id": "srULhalZpt2M",
        "colab": {
          "base_uri": "https://localhost:8080/"
        },
        "outputId": "f7602b9b-af66-4430-9926-af631527577e"
      },
      "outputs": [
        {
          "output_type": "stream",
          "name": "stdout",
          "text": [
            "Cloning into 'superhero'...\n",
            "remote: Enumerating objects: 8, done.\u001b[K\n",
            "remote: Counting objects: 100% (8/8), done.\u001b[K\n",
            "remote: Compressing objects: 100% (7/7), done.\u001b[K\n",
            "remote: Total 8 (delta 0), reused 4 (delta 0), pack-reused 0\u001b[K\n",
            "Unpacking objects: 100% (8/8), done.\n"
          ]
        }
      ],
      "source": [
        "!git clone https://github.com/am1tyadav/superhero"
      ]
    },
    {
      "cell_type": "code",
      "execution_count": 2,
      "metadata": {
        "id": "uq4CLmsLpt2P",
        "colab": {
          "base_uri": "https://localhost:8080/",
          "height": 35
        },
        "outputId": "9d3641a8-5914-467d-b4dc-7c592a9ce424"
      },
      "outputs": [
        {
          "output_type": "execute_result",
          "data": {
            "text/plain": [
              "'jumpa\\t\\ndoctor fate\\t\\nstarlight\\t\\nisildur\\t\\nlasher\\t\\nva'"
            ],
            "application/vnd.google.colaboratory.intrinsic+json": {
              "type": "string"
            }
          },
          "metadata": {},
          "execution_count": 2
        }
      ],
      "source": [
        "with open('superhero/superheroes.txt','r') as f:\n",
        "  data = f.read()\n",
        "\n",
        "data[:50]"
      ]
    },
    {
      "cell_type": "code",
      "execution_count": 3,
      "metadata": {
        "id": "JqhtLuAHpt2R"
      },
      "outputs": [],
      "source": [
        "import tensorflow as tf"
      ]
    },
    {
      "cell_type": "code",
      "execution_count": 4,
      "metadata": {
        "id": "95Lo1Yqzpt2T"
      },
      "outputs": [],
      "source": [
        "tokenizer = tf.keras.preprocessing.text.Tokenizer(\n",
        "    filters='!\"#$%&()*+,-./:;<=>?@[\\\\]^_`{|}~',\n",
        "    split='\\n',\n",
        ")"
      ]
    },
    {
      "cell_type": "code",
      "execution_count": 5,
      "metadata": {
        "id": "qYfC4sj2pt2V"
      },
      "outputs": [],
      "source": [
        "tokenizer.fit_on_texts(data)"
      ]
    },
    {
      "cell_type": "code",
      "execution_count": 6,
      "metadata": {
        "id": "EO4-dPM6pt2X",
        "colab": {
          "base_uri": "https://localhost:8080/"
        },
        "outputId": "891ddeff-bc48-4c30-dfdf-04c7a4aaba92"
      },
      "outputs": [
        {
          "output_type": "stream",
          "name": "stdout",
          "text": [
            "{1: '\\t', 2: 'a', 3: 'e', 4: 'r', 5: 'o', 6: 'n', 7: 'i', 8: ' ', 9: 't', 10: 's', 11: 'l', 12: 'm', 13: 'h', 14: 'd', 15: 'c', 16: 'u', 17: 'g', 18: 'k', 19: 'b', 20: 'p', 21: 'y', 22: 'w', 23: 'f', 24: 'v', 25: 'j', 26: 'z', 27: 'x', 28: 'q'}\n"
          ]
        }
      ],
      "source": [
        "char_to_index = tokenizer.word_index\n",
        "index_to_char = dict((v,k) for k,v in char_to_index.items())\n",
        "\n",
        "print(index_to_char)"
      ]
    },
    {
      "cell_type": "markdown",
      "metadata": {
        "id": "SMwtIw_Bpt2Z"
      },
      "source": [
        "## Task 3\n",
        "\n",
        "1. Converting between names and sequences"
      ]
    },
    {
      "cell_type": "code",
      "execution_count": 7,
      "metadata": {
        "id": "N7iQLIXzpt2a",
        "colab": {
          "base_uri": "https://localhost:8080/"
        },
        "outputId": "c27972ee-fdb1-4088-ecf1-7e098c17e41b"
      },
      "outputs": [
        {
          "output_type": "execute_result",
          "data": {
            "text/plain": [
              "['jumpa\\t',\n",
              " 'doctor fate\\t',\n",
              " 'starlight\\t',\n",
              " 'isildur\\t',\n",
              " 'lasher\\t',\n",
              " 'varvara\\t',\n",
              " 'the target\\t',\n",
              " 'axel\\t',\n",
              " 'battra\\t',\n",
              " 'changeling\\t']"
            ]
          },
          "metadata": {},
          "execution_count": 7
        }
      ],
      "source": [
        "names = data.splitlines()\n",
        "names[:10]"
      ]
    },
    {
      "cell_type": "code",
      "execution_count": 8,
      "metadata": {
        "id": "n_-TTfqipt2c",
        "colab": {
          "base_uri": "https://localhost:8080/"
        },
        "outputId": "066a904a-9054-48f7-8832-768d0ac005d2"
      },
      "outputs": [
        {
          "output_type": "execute_result",
          "data": {
            "text/plain": [
              "[[25], [16], [12], [20], [2], [1]]"
            ]
          },
          "metadata": {},
          "execution_count": 8
        }
      ],
      "source": [
        "tokenizer.texts_to_sequences(names[0])"
      ]
    },
    {
      "cell_type": "code",
      "execution_count": 9,
      "metadata": {
        "id": "P6IsKH1Upt2e"
      },
      "outputs": [],
      "source": [
        "def name_to_seq(name):\n",
        "  return [tokenizer.texts_to_sequences(c)[0][0] for c in name]"
      ]
    },
    {
      "cell_type": "code",
      "execution_count": 10,
      "metadata": {
        "id": "TuLUiMP3pt2g",
        "colab": {
          "base_uri": "https://localhost:8080/"
        },
        "outputId": "02e0efdb-ef5e-4346-dcf7-326e92c6ba75"
      },
      "outputs": [
        {
          "output_type": "execute_result",
          "data": {
            "text/plain": [
              "[25, 16, 12, 20, 2, 1]"
            ]
          },
          "metadata": {},
          "execution_count": 10
        }
      ],
      "source": [
        "name_to_seq(names[0])"
      ]
    },
    {
      "cell_type": "code",
      "execution_count": 11,
      "metadata": {
        "id": "yFUYhimKpt2h"
      },
      "outputs": [],
      "source": [
        "def seq_to_name(seq):\n",
        "  return ''.join([index_to_char[i] for i in seq if i != 0 ])"
      ]
    },
    {
      "cell_type": "code",
      "execution_count": 12,
      "metadata": {
        "id": "ROhCqmhLpt2k",
        "colab": {
          "base_uri": "https://localhost:8080/",
          "height": 35
        },
        "outputId": "357ba2d9-a409-4743-a50f-91d94fe2630f"
      },
      "outputs": [
        {
          "output_type": "execute_result",
          "data": {
            "text/plain": [
              "'jumpa\\t'"
            ],
            "application/vnd.google.colaboratory.intrinsic+json": {
              "type": "string"
            }
          },
          "metadata": {},
          "execution_count": 12
        }
      ],
      "source": [
        "seq_to_name(name_to_seq(names[0]))"
      ]
    },
    {
      "cell_type": "markdown",
      "metadata": {
        "id": "uCbAzsNjpt2m"
      },
      "source": [
        "## Task 4\n",
        "\n",
        "1. Creating sequences\n",
        "2. Padding all sequences"
      ]
    },
    {
      "cell_type": "code",
      "execution_count": 13,
      "metadata": {
        "id": "zstNn-0dpt2m"
      },
      "outputs": [],
      "source": [
        "sequences = []\n",
        "\n",
        "for name in names :\n",
        "  seq = name_to_seq(name)\n",
        "  if len(seq) >= 2:\n",
        "    sequences += [seq[:i] for i in range(2, len(seq)+1)]"
      ]
    },
    {
      "cell_type": "code",
      "execution_count": 14,
      "metadata": {
        "id": "BjRTMysvpt2o",
        "colab": {
          "base_uri": "https://localhost:8080/"
        },
        "outputId": "c48a9ba4-5ab0-49a5-c729-aa10575f50bd"
      },
      "outputs": [
        {
          "output_type": "execute_result",
          "data": {
            "text/plain": [
              "[[25, 16],\n",
              " [25, 16, 12],\n",
              " [25, 16, 12, 20],\n",
              " [25, 16, 12, 20, 2],\n",
              " [25, 16, 12, 20, 2, 1],\n",
              " [14, 5],\n",
              " [14, 5, 15],\n",
              " [14, 5, 15, 9],\n",
              " [14, 5, 15, 9, 5],\n",
              " [14, 5, 15, 9, 5, 4]]"
            ]
          },
          "metadata": {},
          "execution_count": 14
        }
      ],
      "source": [
        "sequences[:10]"
      ]
    },
    {
      "cell_type": "code",
      "execution_count": 15,
      "metadata": {
        "id": "SR68pu2tpt2q",
        "colab": {
          "base_uri": "https://localhost:8080/"
        },
        "outputId": "4241cdb8-8aad-4378-f316-54793511ce67"
      },
      "outputs": [
        {
          "output_type": "stream",
          "name": "stdout",
          "text": [
            "33\n"
          ]
        }
      ],
      "source": [
        "max_len = max([len(x) for x in sequences])\n",
        "print(max_len)"
      ]
    },
    {
      "cell_type": "code",
      "execution_count": 16,
      "metadata": {
        "id": "h_1BtWO7pt2r",
        "colab": {
          "base_uri": "https://localhost:8080/"
        },
        "outputId": "d03849d2-50fe-4378-adf3-7adcc9429739"
      },
      "outputs": [
        {
          "output_type": "stream",
          "name": "stdout",
          "text": [
            "[ 0  0  0  0  0  0  0  0  0  0  0  0  0  0  0  0  0  0  0  0  0  0  0  0\n",
            "  0  0  0  0  0  0  0 25 16]\n"
          ]
        }
      ],
      "source": [
        "padded_sequences = tf.keras.preprocessing.sequence.pad_sequences(\n",
        "    sequences, padding = 'pre',\n",
        "    maxlen = max_len\n",
        ")\n",
        "\n",
        "print(padded_sequences[0])"
      ]
    },
    {
      "cell_type": "code",
      "execution_count": 17,
      "metadata": {
        "id": "sPlrLRpSpt2t",
        "colab": {
          "base_uri": "https://localhost:8080/"
        },
        "outputId": "3674c250-3eb6-4485-a11a-f381de1705b6"
      },
      "outputs": [
        {
          "output_type": "execute_result",
          "data": {
            "text/plain": [
              "(88279, 33)"
            ]
          },
          "metadata": {},
          "execution_count": 17
        }
      ],
      "source": [
        "padded_sequences.shape"
      ]
    },
    {
      "cell_type": "markdown",
      "metadata": {
        "id": "I50sc54EmFvM"
      },
      "source": [
        "## Task 5: Creating Training and Validation Sets\n",
        "\n",
        "1. Creating training and validation sets"
      ]
    },
    {
      "cell_type": "code",
      "execution_count": 20,
      "metadata": {
        "id": "BE4BIeSnpt2v",
        "colab": {
          "base_uri": "https://localhost:8080/"
        },
        "outputId": "7836db02-f756-482e-9482-d028301cfd1e"
      },
      "outputs": [
        {
          "output_type": "stream",
          "name": "stdout",
          "text": [
            "(88279, 32) (88279,)\n"
          ]
        }
      ],
      "source": [
        "x,y = padded_sequences[:,:-1], padded_sequences[:,-1]\n",
        "print(x.shape,y.shape)"
      ]
    },
    {
      "cell_type": "code",
      "execution_count": 21,
      "metadata": {
        "id": "FPJt3Fe8mFvN",
        "colab": {
          "base_uri": "https://localhost:8080/"
        },
        "outputId": "73fcab98-c73f-483b-9abd-fe821fa16316"
      },
      "outputs": [
        {
          "output_type": "stream",
          "name": "stdout",
          "text": [
            "(66209, 32) (66209,)\n",
            "(22070, 32) (22070,)\n"
          ]
        }
      ],
      "source": [
        "from sklearn.model_selection import train_test_split\n",
        "x_train,x_test, y_train, y_test = train_test_split(x,y)\n",
        "\n",
        "print(x_train.shape, y_train.shape)\n",
        "print(x_test.shape, y_test.shape)"
      ]
    },
    {
      "cell_type": "code",
      "source": [
        "num_chars = len(char_to_index.keys())+1\n",
        "print(num_chars)"
      ],
      "metadata": {
        "colab": {
          "base_uri": "https://localhost:8080/"
        },
        "id": "9lL6EzDsMTdP",
        "outputId": "8ff25528-c8f9-4bfc-d220-fa7e02d47c03"
      },
      "execution_count": 23,
      "outputs": [
        {
          "output_type": "stream",
          "name": "stdout",
          "text": [
            "29\n"
          ]
        }
      ]
    },
    {
      "cell_type": "markdown",
      "metadata": {
        "id": "_qR2To2PmFvN"
      },
      "source": [
        "## Task 6: Creating the Model"
      ]
    },
    {
      "cell_type": "code",
      "execution_count": 30,
      "metadata": {
        "id": "BudMUz0RmFvN",
        "colab": {
          "base_uri": "https://localhost:8080/"
        },
        "outputId": "527c4601-08f8-4aa0-952f-f9f3d05b60f4"
      },
      "outputs": [
        {
          "output_type": "stream",
          "name": "stdout",
          "text": [
            "Model: \"sequential_1\"\n",
            "_________________________________________________________________\n",
            " Layer (type)                Output Shape              Param #   \n",
            "=================================================================\n",
            " embedding_1 (Embedding)     (None, 32, 8)             232       \n",
            "                                                                 \n",
            " conv1d_1 (Conv1D)           (None, 32, 64)            2624      \n",
            "                                                                 \n",
            " max_pooling1d_1 (MaxPooling  (None, 16, 64)           0         \n",
            " 1D)                                                             \n",
            "                                                                 \n",
            " lstm_1 (LSTM)               (None, 32)                12416     \n",
            "                                                                 \n",
            " dense_1 (Dense)             (None, 29)                957       \n",
            "                                                                 \n",
            "=================================================================\n",
            "Total params: 16,229\n",
            "Trainable params: 16,229\n",
            "Non-trainable params: 0\n",
            "_________________________________________________________________\n"
          ]
        }
      ],
      "source": [
        "from tensorflow.keras.models import Sequential\n",
        "from tensorflow.keras.layers import Embedding, Conv1D, MaxPool1D, LSTM\n",
        "from tensorflow.keras.layers import Bidirectional, Dense\n",
        "\n",
        "model = Sequential([\n",
        "                    Embedding(num_chars,8, input_length = max_len-1),\n",
        "                    Conv1D(64,5,strides=1,activation = 'tanh', padding = 'causal'),\n",
        "                    MaxPool1D(2),\n",
        "                    LSTM(32),\n",
        "                    Dense(num_chars,activation = 'softmax')\n",
        "                    ])\n",
        "\n",
        "model.compile(loss = 'sparse_categorical_crossentropy',\n",
        "              optimizer = 'adam',\n",
        "              metrics = ['accuracy'])\n",
        "\n",
        "model.summary()"
      ]
    },
    {
      "cell_type": "markdown",
      "metadata": {
        "id": "AeqeFWJDmFvO"
      },
      "source": [
        "## Task 7: Training the Model"
      ]
    },
    {
      "cell_type": "code",
      "execution_count": 31,
      "metadata": {
        "id": "j0Ssl4qupt22",
        "colab": {
          "base_uri": "https://localhost:8080/"
        },
        "outputId": "2979931a-8d7e-4c12-93ee-aa788e36f4c5"
      },
      "outputs": [
        {
          "output_type": "stream",
          "name": "stdout",
          "text": [
            "Epoch 1/50\n",
            "2070/2070 - 30s - loss: 2.7330 - accuracy: 0.1896 - val_loss: 2.5837 - val_accuracy: 0.2271 - 30s/epoch - 15ms/step\n",
            "Epoch 2/50\n",
            "2070/2070 - 17s - loss: 2.5289 - accuracy: 0.2389 - val_loss: 2.5018 - val_accuracy: 0.2531 - 17s/epoch - 8ms/step\n",
            "Epoch 3/50\n",
            "2070/2070 - 17s - loss: 2.4616 - accuracy: 0.2564 - val_loss: 2.4554 - val_accuracy: 0.2603 - 17s/epoch - 8ms/step\n",
            "Epoch 4/50\n",
            "2070/2070 - 17s - loss: 2.4124 - accuracy: 0.2677 - val_loss: 2.4211 - val_accuracy: 0.2738 - 17s/epoch - 8ms/step\n",
            "Epoch 5/50\n",
            "2070/2070 - 17s - loss: 2.3731 - accuracy: 0.2800 - val_loss: 2.3945 - val_accuracy: 0.2778 - 17s/epoch - 8ms/step\n",
            "Epoch 6/50\n",
            "2070/2070 - 17s - loss: 2.3424 - accuracy: 0.2870 - val_loss: 2.3674 - val_accuracy: 0.2879 - 17s/epoch - 8ms/step\n",
            "Epoch 7/50\n",
            "2070/2070 - 17s - loss: 2.3139 - accuracy: 0.2966 - val_loss: 2.3522 - val_accuracy: 0.2938 - 17s/epoch - 8ms/step\n",
            "Epoch 8/50\n",
            "2070/2070 - 17s - loss: 2.2893 - accuracy: 0.3050 - val_loss: 2.3344 - val_accuracy: 0.2990 - 17s/epoch - 8ms/step\n",
            "Epoch 9/50\n",
            "2070/2070 - 17s - loss: 2.2665 - accuracy: 0.3116 - val_loss: 2.3211 - val_accuracy: 0.3050 - 17s/epoch - 8ms/step\n",
            "Epoch 10/50\n",
            "2070/2070 - 17s - loss: 2.2463 - accuracy: 0.3192 - val_loss: 2.3128 - val_accuracy: 0.3088 - 17s/epoch - 8ms/step\n",
            "Epoch 11/50\n",
            "2070/2070 - 17s - loss: 2.2269 - accuracy: 0.3234 - val_loss: 2.2936 - val_accuracy: 0.3104 - 17s/epoch - 8ms/step\n",
            "Epoch 12/50\n",
            "2070/2070 - 17s - loss: 2.2080 - accuracy: 0.3294 - val_loss: 2.2893 - val_accuracy: 0.3169 - 17s/epoch - 8ms/step\n",
            "Epoch 13/50\n",
            "2070/2070 - 17s - loss: 2.1922 - accuracy: 0.3358 - val_loss: 2.2770 - val_accuracy: 0.3188 - 17s/epoch - 8ms/step\n",
            "Epoch 14/50\n",
            "2070/2070 - 17s - loss: 2.1756 - accuracy: 0.3410 - val_loss: 2.2657 - val_accuracy: 0.3219 - 17s/epoch - 8ms/step\n",
            "Epoch 15/50\n",
            "2070/2070 - 17s - loss: 2.1609 - accuracy: 0.3444 - val_loss: 2.2636 - val_accuracy: 0.3228 - 17s/epoch - 8ms/step\n",
            "Epoch 16/50\n",
            "2070/2070 - 17s - loss: 2.1468 - accuracy: 0.3509 - val_loss: 2.2509 - val_accuracy: 0.3288 - 17s/epoch - 8ms/step\n",
            "Epoch 17/50\n",
            "2070/2070 - 17s - loss: 2.1337 - accuracy: 0.3542 - val_loss: 2.2499 - val_accuracy: 0.3309 - 17s/epoch - 8ms/step\n",
            "Epoch 18/50\n",
            "2070/2070 - 17s - loss: 2.1221 - accuracy: 0.3570 - val_loss: 2.2479 - val_accuracy: 0.3335 - 17s/epoch - 8ms/step\n",
            "Epoch 19/50\n",
            "2070/2070 - 17s - loss: 2.1116 - accuracy: 0.3613 - val_loss: 2.2430 - val_accuracy: 0.3341 - 17s/epoch - 8ms/step\n",
            "Epoch 20/50\n",
            "2070/2070 - 17s - loss: 2.1021 - accuracy: 0.3640 - val_loss: 2.2350 - val_accuracy: 0.3360 - 17s/epoch - 8ms/step\n",
            "Epoch 21/50\n",
            "2070/2070 - 17s - loss: 2.0927 - accuracy: 0.3682 - val_loss: 2.2337 - val_accuracy: 0.3397 - 17s/epoch - 8ms/step\n",
            "Epoch 22/50\n",
            "2070/2070 - 17s - loss: 2.0831 - accuracy: 0.3708 - val_loss: 2.2359 - val_accuracy: 0.3398 - 17s/epoch - 8ms/step\n",
            "Epoch 23/50\n",
            "2070/2070 - 17s - loss: 2.0750 - accuracy: 0.3746 - val_loss: 2.2329 - val_accuracy: 0.3402 - 17s/epoch - 8ms/step\n",
            "Epoch 24/50\n",
            "2070/2070 - 17s - loss: 2.0673 - accuracy: 0.3760 - val_loss: 2.2294 - val_accuracy: 0.3391 - 17s/epoch - 8ms/step\n",
            "Epoch 25/50\n",
            "2070/2070 - 17s - loss: 2.0595 - accuracy: 0.3805 - val_loss: 2.2265 - val_accuracy: 0.3393 - 17s/epoch - 8ms/step\n",
            "Epoch 26/50\n",
            "2070/2070 - 17s - loss: 2.0518 - accuracy: 0.3821 - val_loss: 2.2267 - val_accuracy: 0.3422 - 17s/epoch - 8ms/step\n",
            "Epoch 27/50\n",
            "2070/2070 - 17s - loss: 2.0454 - accuracy: 0.3837 - val_loss: 2.2313 - val_accuracy: 0.3446 - 17s/epoch - 8ms/step\n",
            "Epoch 28/50\n",
            "2070/2070 - 17s - loss: 2.0386 - accuracy: 0.3881 - val_loss: 2.2202 - val_accuracy: 0.3456 - 17s/epoch - 8ms/step\n",
            "Epoch 29/50\n",
            "2070/2070 - 17s - loss: 2.0323 - accuracy: 0.3870 - val_loss: 2.2166 - val_accuracy: 0.3502 - 17s/epoch - 8ms/step\n",
            "Epoch 30/50\n",
            "2070/2070 - 17s - loss: 2.0260 - accuracy: 0.3910 - val_loss: 2.2202 - val_accuracy: 0.3465 - 17s/epoch - 8ms/step\n",
            "Epoch 31/50\n",
            "2070/2070 - 17s - loss: 2.0195 - accuracy: 0.3926 - val_loss: 2.2190 - val_accuracy: 0.3462 - 17s/epoch - 8ms/step\n",
            "Epoch 32/50\n",
            "2070/2070 - 17s - loss: 2.0142 - accuracy: 0.3942 - val_loss: 2.2160 - val_accuracy: 0.3464 - 17s/epoch - 8ms/step\n"
          ]
        }
      ],
      "source": [
        "h = model.fit(\n",
        "    x_train,y_train,\n",
        "    validation_data = (x_test, y_test),\n",
        "    epochs = 50, verbose = 2,\n",
        "    callbacks = [tf.keras.callbacks.EarlyStopping(monitor='val_accuracy',patience = 3)]\n",
        ")"
      ]
    },
    {
      "cell_type": "code",
      "source": [
        "from matplotlib import pyplot as plt\n",
        "epochs_ran = len(h.history['loss'])\n",
        "\n",
        "plt.plot(range(0,epochs_ran),h.history['val_accuracy'],label = 'Validation')\n",
        "plt.plot(range(0,epochs_ran),h.history['accuracy'],label = 'training')\n",
        "plt.legend()\n",
        "plt.show()"
      ],
      "metadata": {
        "colab": {
          "base_uri": "https://localhost:8080/",
          "height": 265
        },
        "id": "bxIMLI29Ttge",
        "outputId": "131b1255-bf2e-46c9-abbd-98b6a41837c6"
      },
      "execution_count": 32,
      "outputs": [
        {
          "output_type": "display_data",
          "data": {
            "text/plain": [
              "<Figure size 432x288 with 1 Axes>"
            ],
            "image/png": "[encoded data removed]"
          },
          "metadata": {
            "needs_background": "light"
          }
        }
      ]
    },
    {
      "cell_type": "markdown",
      "metadata": {
        "id": "ZMlGCQFymFvO"
      },
      "source": [
        "## Task 8: Generate Names!"
      ]
    },
    {
      "cell_type": "code",
      "execution_count": 35,
      "metadata": {
        "id": "9f50aTRcpt24"
      },
      "outputs": [],
      "source": [
        "def generate_names(seed):\n",
        "  for i in range(0,40):\n",
        "    seq = name_to_seq(seed)\n",
        "    padded = tf.keras.preprocessing.sequence.pad_sequences([seq],padding = 'pre',\n",
        "                                                           maxlen = max_len-1,\n",
        "                                                           truncating = 'pre')\n",
        "    \n",
        "    pred = model.predict(padded)[0]\n",
        "    pred_char = index_to_char[tf.argmax(pred).numpy()]\n",
        "    seed+= pred_char\n",
        "\n",
        "    if pred_char == '\\t':\n",
        "      break\n",
        "  print(seed)"
      ]
    },
    {
      "cell_type": "code",
      "execution_count": 41,
      "metadata": {
        "id": "faQ0FInlpt26",
        "colab": {
          "base_uri": "https://localhost:8080/"
        },
        "outputId": "4e63f5a3-2c99-4261-9afb-ec99176186f2"
      },
      "outputs": [
        {
          "output_type": "stream",
          "name": "stdout",
          "text": [
            "range carron\t\n"
          ]
        }
      ],
      "source": [
        "generate_names('ra')"
      ]
    },
    {
      "cell_type": "code",
      "source": [
        "generate_names('yes')"
      ],
      "metadata": {
        "colab": {
          "base_uri": "https://localhost:8080/"
        },
        "id": "IaY6OG9dUyax",
        "outputId": "36d5ed1a-1bfe-4a31-9adc-9e58c16aa98b"
      },
      "execution_count": 42,
      "outputs": [
        {
          "output_type": "stream",
          "name": "stdout",
          "text": [
            "yesanu triger\t\n"
          ]
        }
      ]
    },
    {
      "cell_type": "code",
      "source": [
        "generate_names('b')"
      ],
      "metadata": {
        "colab": {
          "base_uri": "https://localhost:8080/"
        },
        "id": "5fD4VyaWU8rs",
        "outputId": "ee39f41c-8cb6-4905-fe87-5c737a087e82"
      },
      "execution_count": 48,
      "outputs": [
        {
          "output_type": "stream",
          "name": "stdout",
          "text": [
            "black seath\t\n"
          ]
        }
      ]
    },
    {
      "cell_type": "code",
      "source": [
        ""
      ],
      "metadata": {
        "id": "Q2G89jlQVKkX"
      },
      "execution_count": null,
      "outputs": []
    }
  ],
  "metadata": {
    "accelerator": "GPU",
    "colab": {
      "collapsed_sections": [],
      "name": "Superhero Name Generator.ipynb",
      "provenance": []
    },
    "kernelspec": {
      "display_name": "Python 3",
      "language": "python",
      "name": "python3"
    },
    "language_info": {
      "codemirror_mode": {
        "name": "ipython",
        "version": 3
      },
      "file_extension": ".py",
      "mimetype": "text/x-python",
      "name": "python",
      "nbconvert_exporter": "python",
      "pygments_lexer": "ipython3",
      "version": "3.8.3"
    }
  },
  "nbformat": 4,
  "nbformat_minor": 0
}